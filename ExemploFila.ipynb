{
  "nbformat": 4,
  "nbformat_minor": 0,
  "metadata": {
    "colab": {
      "name": "ExemploFila.ipynb",
      "provenance": [],
      "collapsed_sections": [],
      "authorship_tag": "ABX9TyM4hh4IP1DEDQOYweWCovJr",
      "include_colab_link": true
    },
    "kernelspec": {
      "name": "python3",
      "display_name": "Python 3"
    },
    "language_info": {
      "name": "python"
    }
  },
  "cells": [
    {
      "cell_type": "markdown",
      "metadata": {
        "id": "view-in-github",
        "colab_type": "text"
      },
      "source": [
        "<a href=\"https://colab.research.google.com/github/AlexandreXavierMartins/Simulacao/blob/main/ExemploFila.ipynb\" target=\"_parent\"><img src=\"https://colab.research.google.com/assets/colab-badge.svg\" alt=\"Open In Colab\"/></a>"
      ]
    },
    {
      "cell_type": "code",
      "execution_count": 14,
      "metadata": {
        "colab": {
          "base_uri": "https://localhost:8080/"
        },
        "id": "kzX2e9PnG6Fg",
        "outputId": "2e0b9f0b-f688-4d82-9472-795828d0f2b5"
      },
      "outputs": [
        {
          "output_type": "stream",
          "name": "stdout",
          "text": [
            "Intervalo entre chegadas é de 2.5 minutos\n",
            "A taxa de chegada é de 0.4 clientes por minuto ou 24.0 clientes por hora.\n",
            "O tempo médio de atendimento é 2.0 minutos\n",
            "A taxa de atendimento é de 0.5 clientes por minuto ou 30.0 clientes por hora.\n",
            "O tempo médio dos clientes na fila é 1.33  minutos\n",
            "A taxa de ocupação do atendente é de 68.57 %\n"
          ]
        }
      ],
      "source": [
        "import numpy as np\n",
        "\n",
        "#Dados\n",
        "inter = [2, 3, 3, 3, 5, 0, 1, 5, 1, 4, 1, 2] #Vetor com o intervalo entre chegadas em minutos\n",
        "atd = [1, 2, 1, 1, 3, 2, 1, 4, 2, 3, 1, 3] #Vetor com o tempo de atendimento em minutos\n",
        "\n",
        "ic = np.mean(inter)\n",
        "\n",
        "print('Intervalo entre chegadas é de', ic, 'minutos')\n",
        "Lambda = 1/ic\n",
        "print('A taxa de chegada é de', Lambda, 'clientes por minuto ou', Lambda*60, 'clientes por hora.')\n",
        "\n",
        "TA = np.mean(atd)\n",
        "print('O tempo médio de atendimento é', TA, 'minutos')\n",
        "mi = 1/TA\n",
        "print('A taxa de atendimento é de', mi, 'clientes por minuto ou', mi*60, 'clientes por hora.')\n",
        "\n",
        "s = np.sum(atd)\n",
        "#print(s)\n",
        "\n",
        "chegadas = []\n",
        "inicio = []\n",
        "tf = []\n",
        "saida = []\n",
        "n = 0\n",
        "for i in range(len(inter)):\n",
        "  n = n + inter[i]\n",
        "  chegadas.append(n)\n",
        "#print(chegadas)\n",
        "\n",
        "inicio.append(chegadas[0])\n",
        "tf.append(0)\n",
        "saida.append(chegadas[0] + atd[0])\n",
        "\n",
        "for i in range(1, len(atd)):\n",
        "  if chegadas[i] >= saida[i-1]:\n",
        "    inicio.append(chegadas[i])\n",
        "    tf.append(0)\n",
        "    saida.append(chegadas[i] + atd[i])\n",
        "  else:\n",
        "    inicio.append(saida[i-1])\n",
        "    tf.append(inicio[i] - chegadas[i])\n",
        "    saida.append(inicio[i] + atd[i])\n",
        "\n",
        "print('O tempo médio dos clientes na fila é', format(np.mean(tf), '.2f'),  ' minutos')\n",
        "print('A taxa de ocupação do atendente é de', format(100*np.sum(atd)/saida[len(saida)-1], '.2f'),  '%')\n",
        "\n"
      ]
    }
  ]
}