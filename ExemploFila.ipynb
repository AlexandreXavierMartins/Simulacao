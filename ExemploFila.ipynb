{
  "nbformat": 4,
  "nbformat_minor": 0,
  "metadata": {
    "colab": {
      "name": "ExemploFila.ipynb",
      "provenance": [],
      "authorship_tag": "ABX9TyPkv9nOHT1Ayl3eUp/JW+ZJ",
      "include_colab_link": true
    },
    "kernelspec": {
      "name": "python3",
      "display_name": "Python 3"
    },
    "language_info": {
      "name": "python"
    }
  },
  "cells": [
    {
      "cell_type": "markdown",
      "metadata": {
        "id": "view-in-github",
        "colab_type": "text"
      },
      "source": [
        "<a href=\"https://colab.research.google.com/github/AlexandreXavierMartins/Simulacao/blob/main/ExemploFila.ipynb\" target=\"_parent\"><img src=\"https://colab.research.google.com/assets/colab-badge.svg\" alt=\"Open In Colab\"/></a>"
      ]
    },
    {
      "cell_type": "code",
      "execution_count": 12,
      "metadata": {
        "colab": {
          "base_uri": "https://localhost:8080/"
        },
        "id": "kzX2e9PnG6Fg",
        "outputId": "093d6462-343d-4692-ab3b-c9ad2d70946a"
      },
      "outputs": [
        {
          "output_type": "stream",
          "name": "stdout",
          "text": [
            "Intervalo entre chegadas é de 2.5 minutos\n",
            "A taxa de chegada é de 0.4 clientes por minuto ou 24.0 clientes por hora.\n",
            "O tempo médio de atendimento é 2.0 minutos\n",
            "A taxa de atendimento é de 0.5 clientes por minuto ou 30.0 clientes por hora.\n",
            "24\n",
            "[2, 5, 8, 11, 16, 16, 17, 22, 23, 27, 28, 30]\n"
          ]
        }
      ],
      "source": [
        "import numpy as np\n",
        "\n",
        "#Dados\n",
        "inter = [2, 3, 3, 3, 5, 0, 1, 5, 1, 4, 1, 2] #Vetor com o intervalo entre chegadas em minutos\n",
        "atd = [1, 2, 1, 1, 3, 2, 1, 4, 2, 3, 1, 3] #Vetor com o tempo de atendimento em minutos\n",
        "\n",
        "ic = np.mean(inter)\n",
        "\n",
        "print('Intervalo entre chegadas é de', ic, 'minutos')\n",
        "Lambda = 1/ic\n",
        "print('A taxa de chegada é de', Lambda, 'clientes por minuto ou', Lambda*60, 'clientes por hora.')\n",
        "\n",
        "TA = np.mean(atd)\n",
        "print('O tempo médio de atendimento é', TA, 'minutos')\n",
        "mi = 1/TA\n",
        "print('A taxa de atendimento é de', mi, 'clientes por minuto ou', mi*60, 'clientes por hora.')\n",
        "\n",
        "s = np.sum(atd)\n",
        "print(s)\n",
        "\n",
        "chegadas = []\n",
        "inicio = []\n",
        "tf = []\n",
        "n = 0\n",
        "for i in range(len(inter)):\n",
        "  n = n + inter[i]\n",
        "  chegadas.append(n)\n",
        "print(chegadas)\n",
        "\n"
      ]
    }
  ]
}